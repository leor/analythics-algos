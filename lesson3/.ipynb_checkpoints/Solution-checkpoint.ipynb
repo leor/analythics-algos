{
 "cells": [
  {
   "cell_type": "code",
   "execution_count": 1,
   "metadata": {},
   "outputs": [],
   "source": [
    "import numpy as np\n",
    "import matplotlib.pyplot as plt"
   ]
  },
  {
   "cell_type": "code",
   "execution_count": 2,
   "metadata": {},
   "outputs": [],
   "source": [
    "X = np.array([[1, 1, 1, 1, 1, 1, 1, 1, 1, 1],\n",
    "              [1, 1, 2, 1, 3, 0, 5, 10, 1, 2],\n",
    "              [500, 700, 750, 600, 1450,\n",
    "               800, 1500, 2000, 450, 1000],\n",
    "              [1, 1, 2, 1, 2, \n",
    "               1, 3, 3, 1, 2]], dtype = np.float64)\n",
    "y = np.array([0, 0, 1, 0, 1,\n",
    "              0, 1, 0, 1, 1], dtype = np.float64)"
   ]
  },
  {
   "cell_type": "code",
   "execution_count": 3,
   "metadata": {},
   "outputs": [],
   "source": [
    "def calc_std_feat(x):\n",
    "    return (x - x.mean()) / x.std()"
   ]
  },
  {
   "cell_type": "markdown",
   "metadata": {},
   "source": [
    "## 1*. Измените функцию calc_logloss так, чтобы нули по возможности не попадали в np.log.  "
   ]
  },
  {
   "cell_type": "code",
   "execution_count": 128,
   "metadata": {},
   "outputs": [],
   "source": [
    "def calc_logloss(y, y_pred):\n",
    "    # хромает - надо чуть дольше копаться, но времени не хватает :(\n",
    "    '''err = []\n",
    "    for i, y1 in enumerate(y):\n",
    "        err.append(- np.mean(y1 * np.log(y_pred[i]) + (1.0 - y1) * np.log(1.0 - y_pred[i])) if y_pred[i] != 0 and y_pred[i] != 1 else np.inf)\n",
    "    '''\n",
    "    err = - np.mean(y * np.log(y_pred) + (1.0 - y) * np.log(1.0 - y_pred))\n",
    "    return np.sum(err)"
   ]
  },
  {
   "cell_type": "code",
   "execution_count": 28,
   "metadata": {},
   "outputs": [],
   "source": [
    "def sigmoid(z):\n",
    "    return 1 / (1 + np.exp(-z))"
   ]
  },
  {
   "cell_type": "code",
   "execution_count": 102,
   "metadata": {},
   "outputs": [],
   "source": [
    "def eval_model(X, y, iterations, alpha=1e-4):\n",
    "    np.random.seed(42)\n",
    "    W = np.random.randn(X.shape[0])\n",
    "    n = X.shape[1]\n",
    "    for i in range(1, iterations+1):\n",
    "        z = np.dot(W, X)\n",
    "        y_pred = sigmoid(z)\n",
    "        err = calc_logloss(y, y_pred)\n",
    "        W -= alpha * (1/n * np.dot((y_pred - y), X.T))\n",
    "        if i % (iterations / 10) == 0:\n",
    "            print(i, W, err)\n",
    "            \n",
    "    return W"
   ]
  },
  {
   "cell_type": "code",
   "execution_count": 129,
   "metadata": {},
   "outputs": [],
   "source": [
    "X_st = X.copy()\n",
    "X_st[2, :] = calc_std_feat(X[2, :])"
   ]
  },
  {
   "cell_type": "markdown",
   "metadata": {},
   "source": [
    "## 2. Подберите аргументы функции eval_model для логистической регрессии таким образом, чтобы log loss был минимальным."
   ]
  },
  {
   "cell_type": "code",
   "execution_count": 141,
   "metadata": {},
   "outputs": [
    {
     "name": "stdout",
     "output_type": "stream",
     "text": [
      "600 [-28.74032255  -3.09787171  -7.42624192  23.89384414] 0.14017661806098056\n",
      "[0. 0. 1. 0. 1. 0. 1. 0. 1. 1.] [0.33812897 0.02344406 0.99999992 0.099703   0.92360624 0.10389955\n",
      " 1.         0.02305819 0.52318324 0.99999618]\n",
      "1200 [-33.67944813  -3.40019524  -9.01023912  27.62508239] 0.12301272373068424\n",
      "[0. 0. 1. 0. 1. 0. 1. 0. 1. 1.] [0.34791475 0.0128215  0.99999999 0.07684741 0.92712411 0.05722096\n",
      " 1.         0.02079644 0.57460377 0.99999939]\n",
      "1800 [-37.56040291  -3.73959139 -10.12496892  30.74438703] 0.1123477403916556\n",
      "[0. 0. 1. 0. 1. 0. 1. 0. 1. 1.] [0.34586395 0.00806038 1.         0.061515   0.94218287 0.04064673\n",
      " 1.         0.01589979 0.60026949 0.99999988]\n",
      "2400 [-40.85887     -4.02439489 -11.0717706   33.38421578] 0.10467845103066262\n",
      "[0. 0. 1. 0. 1. 0. 1. 0. 1. 1.] [0.34226277 0.00538216 1.         0.05039051 0.95213325 0.029935\n",
      " 1.         0.01269339 0.61970207 0.99999997]\n",
      "3000 [-43.75432128  -4.27054149 -11.90400342  35.69124072] 0.09879203081058247\n",
      "[0. 0. 1. 0. 1. 0. 1. 0. 1. 1.] [0.33792629 0.00375121 1.         0.04199774 0.9591149  0.02261102\n",
      " 1.         0.01046699 0.635247   0.99999999]\n",
      "3600 [-46.35549848  -4.48783661 -12.65356045  37.75443093] 0.0940585433625268\n",
      "[0. 0. 1. 0. 1. 0. 1. 0. 1. 1.] [0.33323918 0.00269905 1.         0.03547316 0.96423421 0.01739632\n",
      " 1.         0.00885344 0.64818581 1.        ]\n",
      "4200 [-48.73295642  -4.68273658 -13.34090045  39.63160693] 0.09011777199380462\n",
      "[0. 0. 1. 0. 1. 0. 1. 0. 1. 1.] [0.32839777 0.00199014 1.         0.0302806  0.96811624 0.01357056\n",
      " 1.         0.00764558 0.65928031 1.        ]\n",
      "4800 [-50.93489961  -4.85972506 -13.97985581  41.3623682 ] 0.08674833275082718\n",
      "[0. 0. 1. 0. 1. 0. 1. 0. 1. 1.] [0.32350804 0.00149611 1.         0.02607032 0.97113903 0.01069964\n",
      " 1.         0.00671829 0.66901332 1.        ]\n",
      "5400 [-52.99560911  -5.02205346 -14.58016252  42.97497163] 0.08380634389771868\n",
      "[0. 0. 1. 0. 1. 0. 1. 0. 1. 1.] [0.3186296  0.0011425  1.         0.02260467 0.97354393 0.00850756\n",
      " 1.         0.00599185 0.67770659 1.        ]\n",
      "6000 [-54.94025183  -5.17216567 -15.14889219  44.49025443] 0.0811940408385276\n",
      "[0. 0. 1. 0. 1. 0. 1. 0. 1. 1.] [3.13796982e-01 8.83849039e-04 1.00000000e+00 1.97165443e-02\n",
      " 9.75491914e-01 6.81106872e-03 1.00000000e+00 5.41317065e-03\n",
      " 6.85583309e-01 1.00000000e+00]\n"
     ]
    }
   ],
   "source": [
    "# на самом деле можно его минимизировать и дальше, задирая alpha, но уже незначительно\n",
    "W = eval_model(X_st, y, iterations=6000, alpha=4.1)"
   ]
  },
  {
   "cell_type": "code",
   "execution_count": 142,
   "metadata": {},
   "outputs": [
    {
     "data": {
      "text/plain": [
       "array([-0.78246448, -7.03075862, 30.7252566 , -3.90661155,  3.68406142,\n",
       "       -4.98274002, 36.26791097, -5.21365276,  0.77960906, 22.91488892])"
      ]
     },
     "execution_count": 142,
     "metadata": {},
     "output_type": "execute_result"
    }
   ],
   "source": [
    "probs = np.dot(W, X_st)\n",
    "probs"
   ]
  },
  {
   "cell_type": "code",
   "execution_count": 146,
   "metadata": {},
   "outputs": [
    {
     "data": {
      "text/plain": [
       "([0.0, 0.0, 1.0, 0.0, 1.0, 0.0, 1.0, 0.0, 1.0, 1.0],\n",
       " array([0., 0., 1., 0., 1., 0., 1., 0., 1., 1.]))"
      ]
     },
     "execution_count": 146,
     "metadata": {},
     "output_type": "execute_result"
    }
   ],
   "source": [
    "[np.round(z) for z in sigmoid(probs)], y"
   ]
  },
  {
   "cell_type": "markdown",
   "metadata": {},
   "source": [
    "## 3. Создайте функцию calc_pred_proba, возвращающую предсказанную вероятность класса 1 (на вход подаются W, который уже посчитан функцией eval_model и X, на выходе - массив y_pred_proba)."
   ]
  },
  {
   "cell_type": "code",
   "execution_count": 149,
   "metadata": {},
   "outputs": [],
   "source": [
    "def calc_pred_proba(w, x):\n",
    "    return np.dot(w, x)"
   ]
  },
  {
   "cell_type": "code",
   "execution_count": 150,
   "metadata": {},
   "outputs": [
    {
     "data": {
      "text/plain": [
       "array([-0.78246448, -7.03075862, 30.7252566 , -3.90661155,  3.68406142,\n",
       "       -4.98274002, 36.26791097, -5.21365276,  0.77960906, 22.91488892])"
      ]
     },
     "execution_count": 150,
     "metadata": {},
     "output_type": "execute_result"
    }
   ],
   "source": [
    "calc_pred_proba(W, X_st)"
   ]
  },
  {
   "cell_type": "markdown",
   "metadata": {},
   "source": [
    "## 4. Создайте функцию calc_pred, возвращающую предсказанный класс (на вход подаются W, который уже посчитан функцией eval_model и X, на выходе - массив y_pred)."
   ]
  },
  {
   "cell_type": "code",
   "execution_count": 157,
   "metadata": {},
   "outputs": [],
   "source": [
    "def calc_pred(w, x, threshold=0.5):\n",
    "    probs = calc_pred_proba(w, x)\n",
    "    return [1.0 if z >= threshold else 0 for z in sigmoid(probs)]"
   ]
  },
  {
   "cell_type": "code",
   "execution_count": 160,
   "metadata": {},
   "outputs": [
    {
     "data": {
      "text/plain": [
       "[0, 0, 1.0, 0, 1.0, 0, 1.0, 0, 1.0, 1.0]"
      ]
     },
     "execution_count": 160,
     "metadata": {},
     "output_type": "execute_result"
    }
   ],
   "source": [
    "y_pred = calc_pred(W, X_st)\n",
    "y_pred"
   ]
  },
  {
   "cell_type": "markdown",
   "metadata": {},
   "source": [
    "## 5. Посчитайте Accuracy, матрицу ошибок, точность и полноту, а также F1 score."
   ]
  },
  {
   "cell_type": "code",
   "execution_count": 163,
   "metadata": {},
   "outputs": [
    {
     "data": {
      "text/plain": [
       "1.0"
      ]
     },
     "execution_count": 163,
     "metadata": {},
     "output_type": "execute_result"
    }
   ],
   "source": [
    "accuracy = 1/len(y) * np.sum([1 if y[i] == y_pred[i] else 0 for i in range(len(y))])\n",
    "accuracy"
   ]
  },
  {
   "cell_type": "code",
   "execution_count": 211,
   "metadata": {},
   "outputs": [],
   "source": [
    "def confusion_matrix(y, y_pred):\n",
    "    # делаем пустую матрицу NxN\n",
    "    uy = list(reversed(np.unique(y)))\n",
    "    m = [[0 for x in range(len(uy))] for x in range(len(uy))]\n",
    "    \n",
    "    for i, yi in enumerate(y):\n",
    "        m[uy.index(yi)][uy.index(y_pred[i])] += 1\n",
    "        \n",
    "    return m"
   ]
  },
  {
   "cell_type": "code",
   "execution_count": 222,
   "metadata": {},
   "outputs": [
    {
     "data": {
      "text/plain": [
       "[[5, 0], [0, 5]]"
      ]
     },
     "execution_count": 222,
     "metadata": {},
     "output_type": "execute_result"
    }
   ],
   "source": [
    "cm = confusion_matrix(y, y_pred)\n",
    "cm"
   ]
  },
  {
   "cell_type": "code",
   "execution_count": 227,
   "metadata": {},
   "outputs": [
    {
     "data": {
      "text/plain": [
       "1.0"
      ]
     },
     "execution_count": 227,
     "metadata": {},
     "output_type": "execute_result"
    }
   ],
   "source": [
    "precision = cm[0][0] / (cm[0][0] + cm[0][1])\n",
    "precision"
   ]
  },
  {
   "cell_type": "code",
   "execution_count": 228,
   "metadata": {},
   "outputs": [
    {
     "data": {
      "text/plain": [
       "1.0"
      ]
     },
     "execution_count": 228,
     "metadata": {},
     "output_type": "execute_result"
    }
   ],
   "source": [
    "recall = cm[0][0] / (cm[0][0] + cm[1][0])\n",
    "recall"
   ]
  },
  {
   "cell_type": "code",
   "execution_count": 234,
   "metadata": {},
   "outputs": [
    {
     "data": {
      "text/plain": [
       "1.0"
      ]
     },
     "execution_count": 234,
     "metadata": {},
     "output_type": "execute_result"
    }
   ],
   "source": [
    "beta = 1\n",
    "f = (1 + beta**2) * ((precision*recall)/(beta**2 * precision+recall)) # полная формула F (просто для проверки)\n",
    "\n",
    "f1 = 2 * ((precision*recall)/(precision+recall)) # F1\n",
    "f1"
   ]
  },
  {
   "cell_type": "markdown",
   "metadata": {},
   "source": [
    "## 6. Могла ли модель переобучиться? Почему?"
   ]
  },
  {
   "cell_type": "markdown",
   "metadata": {},
   "source": [
    "Могла. Мы подогнали параметры очень точно для указанных данных, чтобы минимизровать ошибку - в итоге модель возвращает 100% правильный ответ для исходных данных.\n",
    "Опять же precision и recall равны 1, что указывает на переобущение."
   ]
  },
  {
   "cell_type": "markdown",
   "metadata": {},
   "source": [
    "## 7. Создайте функции eval_model_l1 и eval_model_l2 с применением L1 и L2 регуляризаций соответственно"
   ]
  },
  {
   "cell_type": "code",
   "execution_count": 236,
   "metadata": {},
   "outputs": [],
   "source": [
    "def eval_model_l2(X, y, iterations, alpha=1e-4, lambda_=1e-8):\n",
    "    np.random.seed(42)\n",
    "    W = np.random.randn(X.shape[0])\n",
    "    n = X.shape[1]\n",
    "    for i in range(1, iterations+1):\n",
    "        z = np.dot(W, X)\n",
    "        y_pred = sigmoid(z)\n",
    "        err = calc_logloss(y, y_pred)\n",
    "        W -= alpha * (1/n * np.dot((y_pred - y), X.T) + lambda_ * W)\n",
    "        if i % (iterations / 10) == 0:\n",
    "            print(i, W, err)\n",
    "            \n",
    "    return W"
   ]
  },
  {
   "cell_type": "code",
   "execution_count": 237,
   "metadata": {},
   "outputs": [],
   "source": [
    "def eval_model_l1(X, y, iterations, alpha=1e-4, lambda_=1e-8):\n",
    "    np.random.seed(42)\n",
    "    W = np.random.randn(X.shape[0])\n",
    "    n = X.shape[1]\n",
    "    for i in range(1, iterations+1):\n",
    "        z = np.dot(W, X)\n",
    "        y_pred = sigmoid(z)\n",
    "        err = calc_logloss(y, y_pred)\n",
    "        W -= alpha * (1/n * np.dot((y_pred - y), X.T) + lambda_ * np.sign(W))\n",
    "        if i % (iterations / 10) == 0:\n",
    "            print(i, W, err)\n",
    "            \n",
    "    return W"
   ]
  },
  {
   "cell_type": "code",
   "execution_count": 245,
   "metadata": {},
   "outputs": [
    {
     "name": "stdout",
     "output_type": "stream",
     "text": [
      "600 [-28.40581855  -2.94587529  -7.47485695  23.38930331] 0.14120422470161947\n",
      "[0. 0. 1. 0. 1. 0. 1. 0. 1. 1.] [0.3452575  0.02362351 0.99999988 0.1014899  0.9015299  0.08973092\n",
      " 0.99999999 0.02943766 0.53256934 0.9999944 ]\n",
      "1200 [-33.17501829  -3.35510371  -8.86476239  27.21776566] 0.12455263814416413\n",
      "[0. 0. 1. 0. 1. 0. 1. 0. 1. 1.] [0.34784535 0.01359896 0.99999999 0.07897929 0.92490435 0.05967378\n",
      " 1.         0.02164554 0.57086049 0.99999924]\n",
      "1800 [-36.85914193  -3.6775415   -9.92336574  30.18039385] 0.11413253487967345\n",
      "[0. 0. 1. 0. 1. 0. 1. 0. 1. 1.] [0.34627704 0.00876868 1.         0.06406769 0.93979143 0.04323673\n",
      " 1.         0.0167988  0.59571318 0.99999984]\n",
      "2400 [-39.96645375  -3.94642835 -10.81530666  32.66939847] 0.10664454776454654\n",
      "[0. 0. 1. 0. 1. 0. 1. 0. 1. 1.] [0.34323857 0.00600467 1.         0.05319923 0.94970322 0.03250461\n",
      " 1.         0.01359768 0.61447915 0.99999996]\n",
      "3000 [-42.67231631  -4.1773759  -11.59266578  34.82812898] 0.1009106099881663\n",
      "[0. 0. 1. 0. 1. 0. 1. 0. 1. 1.] [0.3395101  0.00429298 1.         0.0449602  0.9567075  0.02508812\n",
      " 1.         0.01135609 0.62942956 0.99999999]\n",
      "3600 [-45.08349248  -4.38003459 -12.28673167  36.74394791] 0.09631529364120972\n",
      "[0. 0. 1. 0. 1. 0. 1. 0. 1. 1.] [0.33545996 0.00316981 1.         0.03852167 0.96187961 0.01974617\n",
      " 1.         0.00971737 0.64181184 0.99999999]\n",
      "4200 [-47.26953603  -4.5607762  -12.91767066  38.47384138] 0.09250515534635095\n",
      "[0. 0. 1. 0. 1. 0. 1. 0. 1. 1.] [0.33127542 0.00239969 1.         0.03336808 0.96582953 0.01577669\n",
      " 1.         0.00847943 0.65237058 1.        ]\n",
      "4800 [-49.27815077  -4.72402946 -13.49918578  40.05695746] 0.08926221972272927\n",
      "[0. 0. 1. 0. 1. 0. 1. 0. 1. 1.] [0.32705667 0.00185317 1.         0.02916282 0.9689273  0.01275535\n",
      " 1.         0.00751988 0.66157942 1.        ]\n",
      "5400 [-51.14339682  -4.87300183 -14.04097765  41.52130627] 0.08644439502579096\n",
      "[0. 0. 1. 0. 1. 0. 1. 0. 1. 1.] [0.32285905 0.00145451 1.         0.02567703 0.97140966 0.01041183\n",
      " 1.         0.00676054 0.66975507 1.        ]\n",
      "6000 [-52.89038826  -5.01009591 -14.55014075  42.88759494] 0.08395486306117261\n",
      "[0. 0. 1. 0. 1. 0. 1. 0. 1. 1.] [0.31871362 0.0011571  1.         0.02274979 0.97343477 0.0085664\n",
      " 1.         0.0061493  0.677118   1.        ]\n"
     ]
    }
   ],
   "source": [
    "W_l1 = eval_model_l1(X_st, y, iterations=6000, alpha=4.1, lambda_=1e-4)"
   ]
  },
  {
   "cell_type": "code",
   "execution_count": 246,
   "metadata": {},
   "outputs": [
    {
     "data": {
      "text/plain": [
       "[0, 0, 1.0, 0, 1.0, 0, 1.0, 0, 1.0, 1.0]"
      ]
     },
     "execution_count": 246,
     "metadata": {},
     "output_type": "execute_result"
    }
   ],
   "source": [
    "y_pred_l1 = calc_pred(W_l1, X_st)\n",
    "y_pred_l1"
   ]
  },
  {
   "cell_type": "code",
   "execution_count": 247,
   "metadata": {},
   "outputs": [
    {
     "data": {
      "text/plain": [
       "[[5, 0], [0, 5]]"
      ]
     },
     "execution_count": 247,
     "metadata": {},
     "output_type": "execute_result"
    }
   ],
   "source": [
    "confusion_matrix(y, y_pred_l1)"
   ]
  },
  {
   "cell_type": "code",
   "execution_count": 248,
   "metadata": {},
   "outputs": [
    {
     "name": "stdout",
     "output_type": "stream",
     "text": [
      "600 [-28.40581855  -2.94587529  -7.47485695  23.38930331] 0.14120422470161947\n",
      "[0. 0. 1. 0. 1. 0. 1. 0. 1. 1.] [0.3452575  0.02362351 0.99999988 0.1014899  0.9015299  0.08973092\n",
      " 0.99999999 0.02943766 0.53256934 0.9999944 ]\n",
      "1200 [-33.17501829  -3.35510371  -8.86476239  27.21776566] 0.12455263814416413\n",
      "[0. 0. 1. 0. 1. 0. 1. 0. 1. 1.] [0.34784535 0.01359896 0.99999999 0.07897929 0.92490435 0.05967378\n",
      " 1.         0.02164554 0.57086049 0.99999924]\n",
      "1800 [-36.85914193  -3.6775415   -9.92336574  30.18039385] 0.11413253487967345\n",
      "[0. 0. 1. 0. 1. 0. 1. 0. 1. 1.] [0.34627704 0.00876868 1.         0.06406769 0.93979143 0.04323673\n",
      " 1.         0.0167988  0.59571318 0.99999984]\n",
      "2400 [-39.96645375  -3.94642835 -10.81530666  32.66939847] 0.10664454776454654\n",
      "[0. 0. 1. 0. 1. 0. 1. 0. 1. 1.] [0.34323857 0.00600467 1.         0.05319923 0.94970322 0.03250461\n",
      " 1.         0.01359768 0.61447915 0.99999996]\n",
      "3000 [-42.67231631  -4.1773759  -11.59266578  34.82812898] 0.1009106099881663\n",
      "[0. 0. 1. 0. 1. 0. 1. 0. 1. 1.] [0.3395101  0.00429298 1.         0.0449602  0.9567075  0.02508812\n",
      " 1.         0.01135609 0.62942956 0.99999999]\n",
      "3600 [-45.08349248  -4.38003459 -12.28673167  36.74394791] 0.09631529364120972\n",
      "[0. 0. 1. 0. 1. 0. 1. 0. 1. 1.] [0.33545996 0.00316981 1.         0.03852167 0.96187961 0.01974617\n",
      " 1.         0.00971737 0.64181184 0.99999999]\n",
      "4200 [-47.26953603  -4.5607762  -12.91767066  38.47384138] 0.09250515534635095\n",
      "[0. 0. 1. 0. 1. 0. 1. 0. 1. 1.] [0.33127542 0.00239969 1.         0.03336808 0.96582953 0.01577669\n",
      " 1.         0.00847943 0.65237058 1.        ]\n",
      "4800 [-49.27815077  -4.72402946 -13.49918578  40.05695746] 0.08926221972272927\n",
      "[0. 0. 1. 0. 1. 0. 1. 0. 1. 1.] [0.32705667 0.00185317 1.         0.02916282 0.9689273  0.01275535\n",
      " 1.         0.00751988 0.66157942 1.        ]\n",
      "5400 [-51.14339682  -4.87300183 -14.04097765  41.52130627] 0.08644439502579096\n",
      "[0. 0. 1. 0. 1. 0. 1. 0. 1. 1.] [0.32285905 0.00145451 1.         0.02567703 0.97140966 0.01041183\n",
      " 1.         0.00676054 0.66975507 1.        ]\n",
      "6000 [-52.89038826  -5.01009591 -14.55014075  42.88759494] 0.08395486306117261\n",
      "[0. 0. 1. 0. 1. 0. 1. 0. 1. 1.] [0.31871362 0.0011571  1.         0.02274979 0.97343477 0.0085664\n",
      " 1.         0.0061493  0.677118   1.        ]\n"
     ]
    }
   ],
   "source": [
    "W_l2 = eval_model_l1(X_st, y, iterations=6000, alpha=4.1, lambda_=1e-4)"
   ]
  },
  {
   "cell_type": "code",
   "execution_count": 249,
   "metadata": {},
   "outputs": [
    {
     "data": {
      "text/plain": [
       "[0, 0, 1.0, 0, 1.0, 0, 1.0, 0, 1.0, 1.0]"
      ]
     },
     "execution_count": 249,
     "metadata": {},
     "output_type": "execute_result"
    }
   ],
   "source": [
    "y_pred_l2 = calc_pred(W_l2, X_st)\n",
    "y_pred_l2"
   ]
  },
  {
   "cell_type": "code",
   "execution_count": 250,
   "metadata": {},
   "outputs": [
    {
     "data": {
      "text/plain": [
       "[[5, 0], [0, 5]]"
      ]
     },
     "execution_count": 250,
     "metadata": {},
     "output_type": "execute_result"
    }
   ],
   "source": [
    "confusion_matrix(y, y_pred_l2)"
   ]
  },
  {
   "cell_type": "code",
   "execution_count": null,
   "metadata": {},
   "outputs": [],
   "source": []
  }
 ],
 "metadata": {
  "kernelspec": {
   "display_name": "Python 3",
   "language": "python",
   "name": "python3"
  },
  "language_info": {
   "codemirror_mode": {
    "name": "ipython",
    "version": 3
   },
   "file_extension": ".py",
   "mimetype": "text/x-python",
   "name": "python",
   "nbconvert_exporter": "python",
   "pygments_lexer": "ipython3",
   "version": "3.7.1"
  }
 },
 "nbformat": 4,
 "nbformat_minor": 2
}
